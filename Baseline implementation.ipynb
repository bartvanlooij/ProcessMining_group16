{
 "cells": [
  {
   "cell_type": "code",
   "execution_count": 10,
   "metadata": {},
   "outputs": [],
   "source": [
    "import pandas as pd\n",
    "import numpy as np\n",
    "import collections\n"
   ]
  },
  {
   "cell_type": "code",
   "execution_count": 2,
   "metadata": {},
   "outputs": [],
   "source": [
    "def return_column_number(df, column_name):\n",
    "    columns = df.columns\n",
    "    for i in range(len(columns)):\n",
    "        if columns[i] == column_name:\n",
    "            return i\n",
    "        \n",
    "    print(\"No columns with this name\")"
   ]
  },
  {
   "cell_type": "code",
   "execution_count": 3,
   "metadata": {},
   "outputs": [],
   "source": [
    "df = pd.read_csv(\"B:\\Downloads\\Road_Traffic_Fine_Management_Process.xes\\Road_Traffic_Fine_Management_Proc-training.csv\", parse_dates=[4])\n",
    "df = df.sort_values(by=[\"case concept:name\", \"event time:timestamp\"])\n",
    "df = df.reset_index()\n",
    "current_trace = \"\"\n",
    "event_in_trace = 0\n",
    "df['event_in_trace'] = 0\n",
    "case_concept_column_number = return_column_number(df, \"case concept:name\")\n",
    "event_in_trace_column_number = return_column_number(df, \"event_in_trace\")\n",
    "\n",
    "\"\"\"\n",
    "Creates a new columns that tells in which position the event is in its own trace\n",
    "\"\"\"\n",
    "for i in range(len(df)):\n",
    "    if df.iat[i, case_concept_column_number] == current_trace:\n",
    "        event_in_trace += 1\n",
    "        df.iat[i, event_in_trace_column_number] = event_in_trace\n",
    "    else:\n",
    "        event_in_trace = 0\n",
    "        current_trace = df.iat[i, case_concept_column_number]\n",
    "        df.iat[i, event_in_trace_column_number] = event_in_trace\n",
    "        \n",
    "        "
   ]
  },
  {
   "cell_type": "code",
   "execution_count": 4,
   "metadata": {},
   "outputs": [
    {
     "data": {
      "text/html": [
       "<div>\n",
       "<style scoped>\n",
       "    .dataframe tbody tr th:only-of-type {\n",
       "        vertical-align: middle;\n",
       "    }\n",
       "\n",
       "    .dataframe tbody tr th {\n",
       "        vertical-align: top;\n",
       "    }\n",
       "\n",
       "    .dataframe thead th {\n",
       "        text-align: right;\n",
       "    }\n",
       "</style>\n",
       "<table border=\"1\" class=\"dataframe\">\n",
       "  <thead>\n",
       "    <tr style=\"text-align: right;\">\n",
       "      <th></th>\n",
       "      <th>index</th>\n",
       "      <th>eventID</th>\n",
       "      <th>case concept:name</th>\n",
       "      <th>event concept:name</th>\n",
       "      <th>event lifecycle:transition</th>\n",
       "      <th>event time:timestamp</th>\n",
       "      <th>event_in_trace</th>\n",
       "    </tr>\n",
       "  </thead>\n",
       "  <tbody>\n",
       "    <tr>\n",
       "      <th>0</th>\n",
       "      <td>206285</td>\n",
       "      <td>1</td>\n",
       "      <td>A1</td>\n",
       "      <td>Send Fine</td>\n",
       "      <td>complete</td>\n",
       "      <td>2006-05-12</td>\n",
       "      <td>0</td>\n",
       "    </tr>\n",
       "    <tr>\n",
       "      <th>1</th>\n",
       "      <td>188244</td>\n",
       "      <td>0</td>\n",
       "      <td>A1</td>\n",
       "      <td>Create Fine</td>\n",
       "      <td>complete</td>\n",
       "      <td>2006-07-24</td>\n",
       "      <td>1</td>\n",
       "    </tr>\n",
       "    <tr>\n",
       "      <th>2</th>\n",
       "      <td>189251</td>\n",
       "      <td>4294967296</td>\n",
       "      <td>A100</td>\n",
       "      <td>Create Fine</td>\n",
       "      <td>complete</td>\n",
       "      <td>2006-02-08</td>\n",
       "      <td>0</td>\n",
       "    </tr>\n",
       "    <tr>\n",
       "      <th>3</th>\n",
       "      <td>207056</td>\n",
       "      <td>4294967297</td>\n",
       "      <td>A100</td>\n",
       "      <td>Send Fine</td>\n",
       "      <td>complete</td>\n",
       "      <td>2006-12-12</td>\n",
       "      <td>1</td>\n",
       "    </tr>\n",
       "    <tr>\n",
       "      <th>4</th>\n",
       "      <td>213793</td>\n",
       "      <td>4294967298</td>\n",
       "      <td>A100</td>\n",
       "      <td>Insert Fine Notification</td>\n",
       "      <td>complete</td>\n",
       "      <td>2007-01-15</td>\n",
       "      <td>2</td>\n",
       "    </tr>\n",
       "  </tbody>\n",
       "</table>\n",
       "</div>"
      ],
      "text/plain": [
       "    index    eventID  case concept:name        event concept:name  \\\n",
       "0  206285           1                A1                 Send Fine   \n",
       "1  188244           0                A1               Create Fine   \n",
       "2  189251  4294967296              A100               Create Fine   \n",
       "3  207056  4294967297              A100                 Send Fine   \n",
       "4  213793  4294967298              A100  Insert Fine Notification   \n",
       "\n",
       "  event lifecycle:transition event time:timestamp  event_in_trace  \n",
       "0                   complete           2006-05-12               0  \n",
       "1                   complete           2006-07-24               1  \n",
       "2                   complete           2006-02-08               0  \n",
       "3                   complete           2006-12-12               1  \n",
       "4                   complete           2007-01-15               2  "
      ]
     },
     "execution_count": 4,
     "metadata": {},
     "output_type": "execute_result"
    }
   ],
   "source": [
    "df.head()"
   ]
  },
  {
   "cell_type": "code",
   "execution_count": 22,
   "metadata": {},
   "outputs": [],
   "source": [
    "\"\"\"\n",
    "Calculate  how long the longest trace\n",
    "\"\"\"\n",
    "df[\"time_difference\"] = pd.Timedelta(0, 'd')\n",
    "df[\"predicted_date_next_event\"] = pd.Timedelta(0, 'd')\n",
    "df[\"predicted_name_next_event\"] = \"\"\n",
    "case_concept_column_number = return_column_number(df, \"case concept:name\")\n",
    "event_concept_column_number = return_column_number(df, \"event concept:name\")\n",
    "event_in_trace_column_number = return_column_number(df, \"event_in_trace\")\n",
    "event_time_column_number = return_column_number(df, \"event time:timestamp\")\n",
    "predicted_date_column_number = return_column_number(df, \"predicted_date_next_event\")\n",
    "predited_name_column_number = return_column_number(df, \"predicted_name_next_event\")\n",
    "time_difference_column_number = return_column_number(df, \"time_difference\")\n",
    "longest_trace = df[\"case concept:name\"].value_counts()[0]\n",
    "all_time_differences = {x:(0, pd.Timedelta(0,'d'))for x in range(longest_trace)}\n",
    "average_difference = {}\n",
    "all_events = {x:[] for x in range(longest_trace)}\n",
    "for i in range(len(df)):\n",
    "    \n",
    "    \n",
    "    if (i < len(df)-1):\n",
    "        all_events[df.iat[i, event_in_trace_column_number]].append(df.iat[i+1, event_concept_column_number])\n",
    "        \n",
    "        if (df.iat[i+1, case_concept_column_number] == df.iat[i, case_concept_column_number]):\n",
    "            df.iat[i, time_difference_column_number] = df.iat[i+1, event_time_column_number] - df.iat[i, event_time_column_number]\n",
    "        else:\n",
    "            df.iat[i, time_difference_column_number] = \"last event in trace\"\n",
    "            \n",
    "for i in range(longest_trace):\n",
    "    df_per_i = df[df[\"event_in_trace\"] == i]\n",
    "    average_difference[i] = 0\n",
    "    df_per_i = df_per_i[df_per_i[\"time_difference\"] != \"last event in trace\"]\n",
    "    if len(df_per_i == 0):\n",
    "        total  = 0\n",
    "        for j in range(len(df_per_i)):\n",
    "            total = df_per_i.iat[j, time_difference_column_number].days + total\n",
    "        average_difference[i] = int(total/len(df_per_i))\n",
    "\n",
    "for i in range(len(all_events)):\n",
    "    all_events[i] = collections.Counter(all_events[i]).most_common()[0][0]\n",
    "    \n",
    "for i in range(len(df)):\n",
    "    df.iat[i, predicted_date_column_number] = df.iat[i,event_time_column_number] + pd.Timedelta(average_difference[df.iat[i, event_in_trace_column_number]], \"d\")\n",
    "    df.iat[i, predited_name_column_number] = all_events[df.iat[i, event_in_trace_column_number]]\n"
   ]
  },
  {
   "cell_type": "code",
   "execution_count": 25,
   "metadata": {},
   "outputs": [
    {
     "data": {
      "text/html": [
       "<div>\n",
       "<style scoped>\n",
       "    .dataframe tbody tr th:only-of-type {\n",
       "        vertical-align: middle;\n",
       "    }\n",
       "\n",
       "    .dataframe tbody tr th {\n",
       "        vertical-align: top;\n",
       "    }\n",
       "\n",
       "    .dataframe thead th {\n",
       "        text-align: right;\n",
       "    }\n",
       "</style>\n",
       "<table border=\"1\" class=\"dataframe\">\n",
       "  <thead>\n",
       "    <tr style=\"text-align: right;\">\n",
       "      <th></th>\n",
       "      <th>index</th>\n",
       "      <th>eventID</th>\n",
       "      <th>case concept:name</th>\n",
       "      <th>event concept:name</th>\n",
       "      <th>event lifecycle:transition</th>\n",
       "      <th>event time:timestamp</th>\n",
       "      <th>event_in_trace</th>\n",
       "      <th>time_difference</th>\n",
       "      <th>predicted_date_next_event</th>\n",
       "      <th>predicted_name_next_event</th>\n",
       "    </tr>\n",
       "  </thead>\n",
       "  <tbody>\n",
       "    <tr>\n",
       "      <th>96820</th>\n",
       "      <td>380115</td>\n",
       "      <td>116947664502803</td>\n",
       "      <td>C20817</td>\n",
       "      <td>Payment</td>\n",
       "      <td>complete</td>\n",
       "      <td>2011-09-04</td>\n",
       "      <td>19</td>\n",
       "      <td>last event in trace</td>\n",
       "      <td>2011-09-04 00:00:00</td>\n",
       "      <td>Insert Fine Notification</td>\n",
       "    </tr>\n",
       "  </tbody>\n",
       "</table>\n",
       "</div>"
      ],
      "text/plain": [
       "        index         eventID  case concept:name event concept:name  \\\n",
       "96820  380115  116947664502803            C20817            Payment   \n",
       "\n",
       "      event lifecycle:transition event time:timestamp  event_in_trace  \\\n",
       "96820                   complete           2011-09-04              19   \n",
       "\n",
       "           time_difference predicted_date_next_event predicted_name_next_event  \n",
       "96820  last event in trace       2011-09-04 00:00:00  Insert Fine Notification  "
      ]
     },
     "execution_count": 25,
     "metadata": {},
     "output_type": "execute_result"
    }
   ],
   "source": [
    "df[df[\"event_in_trace\"] == 19].head(50)"
   ]
  },
  {
   "cell_type": "code",
   "execution_count": 11,
   "metadata": {},
   "outputs": [],
   "source": [
    "for i in range(len(all_events)):\n",
    "    all_events[i] = collections.Counter(all_events[i])"
   ]
  },
  {
   "cell_type": "code",
   "execution_count": 21,
   "metadata": {},
   "outputs": [
    {
     "name": "stdout",
     "output_type": "stream",
     "text": [
      "Send Fine\n"
     ]
    }
   ],
   "source": [
    "print(all_events[0].most_common()[0][0])"
   ]
  },
  {
   "cell_type": "code",
   "execution_count": 14,
   "metadata": {},
   "outputs": [
    {
     "name": "stdout",
     "output_type": "stream",
     "text": [
      "<class 'str'>\n"
     ]
    }
   ],
   "source": [
    "unique_events = df[\"case concept:name\"].unique()\n",
    "print(type(unique_events[0]))"
   ]
  },
  {
   "cell_type": "code",
   "execution_count": null,
   "metadata": {},
   "outputs": [],
   "source": []
  },
  {
   "cell_type": "code",
   "execution_count": null,
   "metadata": {},
   "outputs": [],
   "source": []
  }
 ],
 "metadata": {
  "kernelspec": {
   "display_name": "Python 3",
   "language": "python",
   "name": "python3"
  },
  "language_info": {
   "codemirror_mode": {
    "name": "ipython",
    "version": 3
   },
   "file_extension": ".py",
   "mimetype": "text/x-python",
   "name": "python",
   "nbconvert_exporter": "python",
   "pygments_lexer": "ipython3",
   "version": "3.8.5"
  }
 },
 "nbformat": 4,
 "nbformat_minor": 4
}
